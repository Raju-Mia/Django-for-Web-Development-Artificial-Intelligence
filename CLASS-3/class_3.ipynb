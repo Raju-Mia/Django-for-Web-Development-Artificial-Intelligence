{
 "cells": [
  {
   "attachments": {},
   "cell_type": "markdown",
   "metadata": {},
   "source": [
    "# 3rd ...Class."
   ]
  },
  {
   "cell_type": "code",
   "execution_count": 2,
   "metadata": {},
   "outputs": [
    {
     "name": "stdout",
     "output_type": "stream",
     "text": [
      "5\n",
      "0.6666666666666666\n",
      "-1\n",
      "6\n"
     ]
    }
   ],
   "source": [
    "print(2+3)\n",
    "\n",
    "print(2/3)\n",
    "print(2-3)\n",
    "\n",
    "print(2*3)"
   ]
  },
  {
   "cell_type": "code",
   "execution_count": 8,
   "metadata": {},
   "outputs": [
    {
     "name": "stdout",
     "output_type": "stream",
     "text": [
      "5\n",
      "3\n"
     ]
    }
   ],
   "source": [
    "a = 5\n",
    "b = a\n",
    "print(b)\n",
    "\n",
    "\n",
    "b -= 2\n",
    "print(b)"
   ]
  },
  {
   "cell_type": "code",
   "execution_count": 13,
   "metadata": {},
   "outputs": [
    {
     "name": "stdout",
     "output_type": "stream",
     "text": [
      "False\n",
      "True\n",
      "True\n"
     ]
    }
   ],
   "source": [
    "a = 5\n",
    "b = 5\n",
    "\n",
    "print(a>b)\n",
    "print(a<=b)\n",
    "print(a==b)"
   ]
  },
  {
   "cell_type": "code",
   "execution_count": 20,
   "metadata": {},
   "outputs": [
    {
     "name": "stdout",
     "output_type": "stream",
     "text": [
      "False\n",
      "True\n"
     ]
    }
   ],
   "source": [
    "a = False\n",
    "b = False\n",
    "print( a and b)\n",
    "\n",
    "print( not b)\n",
    "\n"
   ]
  },
  {
   "cell_type": "code",
   "execution_count": 22,
   "metadata": {},
   "outputs": [
    {
     "name": "stdout",
     "output_type": "stream",
     "text": [
      "6\n"
     ]
    }
   ],
   "source": [
    "a = 6\n",
    "b = 6\n",
    "print( a & b)"
   ]
  },
  {
   "cell_type": "code",
   "execution_count": 25,
   "metadata": {},
   "outputs": [
    {
     "name": "stdout",
     "output_type": "stream",
     "text": [
      " here is value available\n"
     ]
    }
   ],
   "source": [
    "a = 9\n",
    "b = [ 1, 2, 3, 5, 6]\n",
    "if a  not in b:\n",
    "    print(\" here is value available\")"
   ]
  },
  {
   "cell_type": "code",
   "execution_count": 28,
   "metadata": {},
   "outputs": [
    {
     "name": "stdout",
     "output_type": "stream",
     "text": [
      "same value\n"
     ]
    }
   ],
   "source": [
    "a = 5\n",
    "b = 6\n",
    "if a is not b:\n",
    "    print(\"same value\")\n",
    "else:\n",
    "    print(\"not same \")"
   ]
  },
  {
   "attachments": {},
   "cell_type": "markdown",
   "metadata": {},
   "source": [
    "## conditonnal statemanets"
   ]
  },
  {
   "cell_type": "code",
   "execution_count": 37,
   "metadata": {},
   "outputs": [],
   "source": [
    "#if \n",
    "\n",
    "\n",
    "mark = 40\n",
    "if mark <= 39:\n",
    "    print(\"pass mark\")\n",
    "\n"
   ]
  },
  {
   "cell_type": "code",
   "execution_count": 49,
   "metadata": {},
   "outputs": [
    {
     "name": "stdout",
     "output_type": "stream",
     "text": [
      " not pass mark\n"
     ]
    }
   ],
   "source": [
    "#if ---else\n",
    "\n",
    "\n",
    "mark = 60\n",
    "if mark <= 40:\n",
    "    print(\"pass mark\")\n",
    "\n",
    "elif mark <= 50:\n",
    "    print(\"good mark\")\n",
    "\n",
    "else:\n",
    "    print(\" not pass mark\")\n",
    "\n"
   ]
  },
  {
   "cell_type": "code",
   "execution_count": 54,
   "metadata": {},
   "outputs": [
    {
     "name": "stdout",
     "output_type": "stream",
     "text": [
      "bangladesh\n",
      "bangladesh\n",
      "bangladesh\n",
      "bangladesh\n"
     ]
    }
   ],
   "source": [
    "#while loop\n",
    "s = 1\n",
    "while s<5:\n",
    "    print(\"bangladesh\")\n",
    "    s += 1\n"
   ]
  },
  {
   "cell_type": "code",
   "execution_count": 58,
   "metadata": {},
   "outputs": [
    {
     "name": "stdout",
     "output_type": "stream",
     "text": [
      "10\n",
      "9\n",
      "8\n",
      "7\n",
      "6\n",
      "5\n",
      "4\n",
      "3\n",
      "2\n",
      "1\n"
     ]
    }
   ],
   "source": [
    "n = 10\n",
    "while n>=1:\n",
    "    print(n)\n",
    "    n -= 1"
   ]
  },
  {
   "cell_type": "code",
   "execution_count": 60,
   "metadata": {},
   "outputs": [
    {
     "name": "stdout",
     "output_type": "stream",
     "text": [
      "1\n",
      "3\n",
      "5\n",
      "7\n",
      "9\n",
      "11\n",
      "13\n",
      "15\n",
      "17\n",
      "19\n"
     ]
    }
   ],
   "source": [
    "n = 1\n",
    "while n<=20:\n",
    "    print(n)\n",
    "    n += 2"
   ]
  },
  {
   "cell_type": "code",
   "execution_count": 62,
   "metadata": {},
   "outputs": [
    {
     "name": "stdout",
     "output_type": "stream",
     "text": [
      "210\n"
     ]
    }
   ],
   "source": [
    "n = 1\n",
    "value = 0\n",
    "while n<=20:\n",
    "    value = value + n\n",
    "    n += 1\n",
    "\n",
    "print(value)"
   ]
  },
  {
   "cell_type": "code",
   "execution_count": 63,
   "metadata": {},
   "outputs": [
    {
     "name": "stdout",
     "output_type": "stream",
     "text": [
      "1\n",
      "2\n",
      "3\n",
      "4\n",
      "5\n",
      "6\n",
      "7\n",
      "8\n",
      "9\n",
      "10\n",
      "11\n",
      "12\n",
      "13\n",
      "14\n",
      "15\n",
      "16\n",
      "17\n",
      "18\n",
      "19\n"
     ]
    }
   ],
   "source": [
    "#for loop\n",
    "\n",
    "\n",
    "for i in range(1, 20):\n",
    "    print(i)"
   ]
  },
  {
   "cell_type": "code",
   "execution_count": 65,
   "metadata": {},
   "outputs": [
    {
     "name": "stdout",
     "output_type": "stream",
     "text": [
      "10\n",
      "9\n",
      "8\n",
      "7\n",
      "6\n",
      "5\n",
      "4\n",
      "3\n",
      "2\n"
     ]
    }
   ],
   "source": [
    "for n in range(10, 1, -1):\n",
    "    print(n)"
   ]
  },
  {
   "cell_type": "code",
   "execution_count": 66,
   "metadata": {},
   "outputs": [
    {
     "name": "stdout",
     "output_type": "stream",
     "text": [
      "bangladesh\n",
      "bangladesh\n",
      "bangladesh\n",
      "bangladesh\n",
      "bangladesh\n"
     ]
    }
   ],
   "source": [
    "for n in range(5):\n",
    "    print(\"bangladesh\")"
   ]
  },
  {
   "cell_type": "code",
   "execution_count": 67,
   "metadata": {},
   "outputs": [
    {
     "name": "stdout",
     "output_type": "stream",
     "text": [
      "1\n",
      "3\n",
      "5\n",
      "7\n",
      "9\n",
      "11\n",
      "13\n",
      "15\n",
      "17\n",
      "19\n"
     ]
    }
   ],
   "source": [
    "for n in range(20):\n",
    "    if ((n%2)==1):\n",
    "        print(n)"
   ]
  },
  {
   "cell_type": "code",
   "execution_count": 69,
   "metadata": {},
   "outputs": [
    {
     "name": "stdout",
     "output_type": "stream",
     "text": [
      "45\n"
     ]
    }
   ],
   "source": [
    "value = 0\n",
    "\n",
    "for n in range(10):\n",
    "    value = value + n\n",
    "print(value)"
   ]
  },
  {
   "cell_type": "code",
   "execution_count": 70,
   "metadata": {},
   "outputs": [
    {
     "name": "stdout",
     "output_type": "stream",
     "text": [
      "0 this is even number\n",
      "1 this is odd number\n",
      "2 this is even number\n",
      "3 this is odd number\n",
      "4 this is even number\n",
      "5 this is odd number\n",
      "6 this is even number\n",
      "7 this is odd number\n",
      "8 this is even number\n",
      "9 this is odd number\n",
      "10 this is even number\n"
     ]
    }
   ],
   "source": [
    "i = 0\n",
    "for n in range(11):\n",
    "    if ((n%2)==0):\n",
    "        print(n, \"this is even number\")\n",
    "\n",
    "    elif ((n%2)==1):\n",
    "        print(n, \"this is odd number\")"
   ]
  },
  {
   "cell_type": "code",
   "execution_count": 79,
   "metadata": {},
   "outputs": [
    {
     "name": "stdout",
     "output_type": "stream",
     "text": [
      "hello\n"
     ]
    }
   ],
   "source": [
    "\n",
    "for n in range(10):\n",
    "    pass\n",
    "\n",
    "\n",
    "print(\"hello\")"
   ]
  },
  {
   "cell_type": "code",
   "execution_count": 82,
   "metadata": {},
   "outputs": [
    {
     "name": "stdout",
     "output_type": "stream",
     "text": [
      "<class 'list'>\n",
      "value\n"
     ]
    }
   ],
   "source": [
    "a = [2, \"value\", 5]\n",
    "print(type(a))\n",
    "\n",
    "print(a[1])"
   ]
  }
 ],
 "metadata": {
  "kernelspec": {
   "display_name": "Python 3",
   "language": "python",
   "name": "python3"
  },
  "language_info": {
   "codemirror_mode": {
    "name": "ipython",
    "version": 3
   },
   "file_extension": ".py",
   "mimetype": "text/x-python",
   "name": "python",
   "nbconvert_exporter": "python",
   "pygments_lexer": "ipython3",
   "version": "3.10.7"
  },
  "orig_nbformat": 4,
  "vscode": {
   "interpreter": {
    "hash": "e7370f93d1d0cde622a1f8e1c04877d8463912d04d973331ad4851f04de6915a"
   }
  }
 },
 "nbformat": 4,
 "nbformat_minor": 2
}
