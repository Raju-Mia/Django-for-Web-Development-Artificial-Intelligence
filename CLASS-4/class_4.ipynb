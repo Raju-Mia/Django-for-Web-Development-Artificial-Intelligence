{
 "cells": [
  {
   "attachments": {},
   "cell_type": "markdown",
   "metadata": {},
   "source": [
    "#  Class -04"
   ]
  },
  {
   "cell_type": "code",
   "execution_count": 3,
   "metadata": {},
   "outputs": [
    {
     "name": "stdout",
     "output_type": "stream",
     "text": [
      "<class 'tuple'>\n"
     ]
    }
   ],
   "source": [
    "thistuple = ('a', 'b', 'c', 9)\n",
    "print(type(thistuple))"
   ]
  },
  {
   "cell_type": "code",
   "execution_count": 7,
   "metadata": {},
   "outputs": [
    {
     "name": "stdout",
     "output_type": "stream",
     "text": [
      "9\n"
     ]
    }
   ],
   "source": [
    "print(thistuple[-1])"
   ]
  },
  {
   "cell_type": "code",
   "execution_count": 10,
   "metadata": {},
   "outputs": [
    {
     "name": "stdout",
     "output_type": "stream",
     "text": [
      "<class 'list'>\n",
      "<class 'tuple'>\n"
     ]
    }
   ],
   "source": [
    "n_list = list(thistuple)\n",
    "\n",
    "print(type(n_list))\n",
    "\n",
    "print(type(thistuple))"
   ]
  },
  {
   "cell_type": "code",
   "execution_count": 17,
   "metadata": {},
   "outputs": [],
   "source": [
    "n_list.remove(9)\n",
    "\n",
    "thistuple = tuple(n_list)"
   ]
  },
  {
   "cell_type": "code",
   "execution_count": 18,
   "metadata": {},
   "outputs": [
    {
     "name": "stdout",
     "output_type": "stream",
     "text": [
      "('a', 'b', 'newvalue')\n"
     ]
    }
   ],
   "source": [
    "print(thistuple)"
   ]
  },
  {
   "cell_type": "code",
   "execution_count": 21,
   "metadata": {},
   "outputs": [
    {
     "name": "stdout",
     "output_type": "stream",
     "text": [
      "{2, '4'}\n",
      "<class 'set'>\n"
     ]
    }
   ],
   "source": [
    "thisset = {2,2,\"4\"}\n",
    "print(thisset)\n",
    "print(type(thisset))"
   ]
  },
  {
   "cell_type": "code",
   "execution_count": 22,
   "metadata": {},
   "outputs": [
    {
     "name": "stdout",
     "output_type": "stream",
     "text": [
      "2\n",
      "4\n"
     ]
    }
   ],
   "source": [
    "for x in thisset:\n",
    "    print(x)"
   ]
  },
  {
   "cell_type": "code",
   "execution_count": 23,
   "metadata": {},
   "outputs": [],
   "source": [
    "a = {1, 2, 3, 4}\n",
    "b = {3,4,5,6,7}"
   ]
  },
  {
   "cell_type": "code",
   "execution_count": 25,
   "metadata": {},
   "outputs": [
    {
     "name": "stdout",
     "output_type": "stream",
     "text": [
      "{3, 4}\n"
     ]
    }
   ],
   "source": [
    "print(a&b)"
   ]
  },
  {
   "attachments": {},
   "cell_type": "markdown",
   "metadata": {},
   "source": [
    "## dictionary start here"
   ]
  },
  {
   "cell_type": "code",
   "execution_count": 26,
   "metadata": {},
   "outputs": [],
   "source": [
    "dict = {\"name\":\"raju\", \"age\":23}"
   ]
  },
  {
   "cell_type": "code",
   "execution_count": 28,
   "metadata": {},
   "outputs": [
    {
     "name": "stdout",
     "output_type": "stream",
     "text": [
      "<class 'dict'>\n",
      "{'name': 'raju', 'age': 23}\n"
     ]
    }
   ],
   "source": [
    "print(type(dict))\n",
    "print(dict)"
   ]
  },
  {
   "cell_type": "code",
   "execution_count": 29,
   "metadata": {},
   "outputs": [
    {
     "name": "stdout",
     "output_type": "stream",
     "text": [
      "dict_keys(['name', 'age'])\n"
     ]
    }
   ],
   "source": [
    "x = dict.keys()\n",
    "print(x)"
   ]
  },
  {
   "cell_type": "code",
   "execution_count": 30,
   "metadata": {},
   "outputs": [
    {
     "name": "stdout",
     "output_type": "stream",
     "text": [
      "dict_values(['raju', 23])\n"
     ]
    }
   ],
   "source": [
    "y = dict.values()\n",
    "print(y)"
   ]
  },
  {
   "cell_type": "code",
   "execution_count": 31,
   "metadata": {},
   "outputs": [],
   "source": [
    "dict[\"name\"]= \"rajumia\""
   ]
  },
  {
   "cell_type": "code",
   "execution_count": 32,
   "metadata": {},
   "outputs": [
    {
     "name": "stdout",
     "output_type": "stream",
     "text": [
      "{'name': 'rajumia', 'age': 23}\n"
     ]
    }
   ],
   "source": [
    "print(dict)"
   ]
  },
  {
   "attachments": {},
   "cell_type": "markdown",
   "metadata": {},
   "source": [
    "## Python Functions"
   ]
  },
  {
   "cell_type": "code",
   "execution_count": 34,
   "metadata": {},
   "outputs": [
    {
     "name": "stdout",
     "output_type": "stream",
     "text": [
      "This is funtion\n",
      "This is funtion\n"
     ]
    }
   ],
   "source": [
    "def RajuMia():\n",
    "    print(\"This is funtion\")\n",
    "\n",
    "\n",
    "RajuMia()\n",
    "RajuMia()\n",
    "\n"
   ]
  },
  {
   "cell_type": "code",
   "execution_count": 36,
   "metadata": {},
   "outputs": [
    {
     "name": "stdout",
     "output_type": "stream",
     "text": [
      "7\n",
      "9\n",
      "9\n",
      "28\n"
     ]
    }
   ],
   "source": [
    "def newfuntion(x,y):\n",
    "    c = x+y\n",
    "    print(c)\n",
    "\n",
    "\n",
    "newfuntion(2,5)\n",
    "newfuntion(4,5)\n",
    "newfuntion(2,7)\n",
    "newfuntion(23,5)\n"
   ]
  },
  {
   "cell_type": "code",
   "execution_count": 39,
   "metadata": {},
   "outputs": [
    {
     "name": "stdout",
     "output_type": "stream",
     "text": [
      "(9, -1)\n"
     ]
    }
   ],
   "source": [
    "def newf(x,y):\n",
    "    c = x+y\n",
    "    d = x-y\n",
    "\n",
    "    return(c,d)\n",
    "\n",
    "\n",
    "newf1 = newf(4,5)\n",
    "print(newf1)\n"
   ]
  },
  {
   "attachments": {},
   "cell_type": "markdown",
   "metadata": {},
   "source": [
    "## Python OOP"
   ]
  },
  {
   "cell_type": "code",
   "execution_count": 43,
   "metadata": {},
   "outputs": [
    {
     "name": "stdout",
     "output_type": "stream",
     "text": [
      "Raju Mia 23\n",
      "Mia 24\n"
     ]
    }
   ],
   "source": [
    "class NewPblm:\n",
    "\n",
    "    #clss attribute\n",
    "    name = \"\"\n",
    "    age = \"\"\n",
    "\n",
    "\n",
    "obj1 = NewPblm()\n",
    "obj1.name = \"Raju Mia\"\n",
    "obj1.age = 23\n",
    "\n",
    "\n",
    "obj2 = NewPblm()\n",
    "obj2.name = \"Mia\"\n",
    "obj2.age = 24\n",
    "\n",
    "print(f\"{obj1.name} {obj1.age}\")\n",
    "print(f\"{obj2.name} {obj2.age}\")"
   ]
  },
  {
   "cell_type": "code",
   "execution_count": 50,
   "metadata": {},
   "outputs": [
    {
     "ename": "SyntaxError",
     "evalue": "invalid syntax (113988006.py, line 13)",
     "output_type": "error",
     "traceback": [
      "\u001b[0;36m  Cell \u001b[0;32mIn [50], line 13\u001b[0;36m\u001b[0m\n\u001b[0;31m    obj.age()  obj.name()\u001b[0m\n\u001b[0m               ^\u001b[0m\n\u001b[0;31mSyntaxError\u001b[0m\u001b[0;31m:\u001b[0m invalid syntax\n"
     ]
    }
   ],
   "source": [
    "class New:\n",
    "\n",
    "    def name(self):\n",
    "        print(\"my name is raju\")\n",
    "\n",
    "    def age(self):\n",
    "        print(\"and age is 23\")\n",
    "\n",
    "obj = New()\n",
    "obj.name()\n",
    "\n",
    "\n",
    "obj.age()"
   ]
  },
  {
   "cell_type": "code",
   "execution_count": null,
   "metadata": {},
   "outputs": [],
   "source": [
    "# inheritance in python "
   ]
  },
  {
   "cell_type": "code",
   "execution_count": 55,
   "metadata": {},
   "outputs": [
    {
     "name": "stdout",
     "output_type": "stream",
     "text": [
      "and age is 44\n"
     ]
    }
   ],
   "source": [
    "class parent:\n",
    "\n",
    "    def name(self):\n",
    "        print(\"my name is parent\")\n",
    "\n",
    "    def p_age(self):\n",
    "        print(\"and age is 44\")\n",
    "\n",
    "\n",
    "\n",
    "class child(parent):\n",
    "\n",
    "    def name_w(self):\n",
    "        print(\"my name is child\")\n",
    "\n",
    "    def age(self):\n",
    "        print(\"and age is 23\")\n",
    "\n",
    "obj = child()\n",
    "obj.p_age()\n"
   ]
  },
  {
   "cell_type": "code",
   "execution_count": 56,
   "metadata": {},
   "outputs": [
    {
     "name": "stdout",
     "output_type": "stream",
     "text": [
      "my name is parent\n"
     ]
    }
   ],
   "source": [
    "obj.name()"
   ]
  }
 ],
 "metadata": {
  "kernelspec": {
   "display_name": "Python 3",
   "language": "python",
   "name": "python3"
  },
  "language_info": {
   "codemirror_mode": {
    "name": "ipython",
    "version": 3
   },
   "file_extension": ".py",
   "mimetype": "text/x-python",
   "name": "python",
   "nbconvert_exporter": "python",
   "pygments_lexer": "ipython3",
   "version": "3.10.7"
  },
  "orig_nbformat": 4,
  "vscode": {
   "interpreter": {
    "hash": "e7370f93d1d0cde622a1f8e1c04877d8463912d04d973331ad4851f04de6915a"
   }
  }
 },
 "nbformat": 4,
 "nbformat_minor": 2
}
