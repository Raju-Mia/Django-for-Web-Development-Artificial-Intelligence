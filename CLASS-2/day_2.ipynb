{
 "cells": [
  {
   "attachments": {},
   "cell_type": "markdown",
   "metadata": {},
   "source": [
    "# **Day -2 lecture**\n"
   ]
  },
  {
   "cell_type": "code",
   "execution_count": 2,
   "metadata": {},
   "outputs": [
    {
     "name": "stdout",
     "output_type": "stream",
     "text": [
      "4444\n",
      "Hello welcome\n"
     ]
    }
   ],
   "source": [
    "print(4444)\n",
    "print(\"Hello welcome\")"
   ]
  },
  {
   "cell_type": "code",
   "execution_count": 3,
   "metadata": {},
   "outputs": [
    {
     "name": "stdout",
     "output_type": "stream",
     "text": [
      "hello\n"
     ]
    }
   ],
   "source": [
    "variablename = input()\n",
    "print(variablename)"
   ]
  },
  {
   "cell_type": "code",
   "execution_count": 4,
   "metadata": {},
   "outputs": [
    {
     "name": "stdout",
     "output_type": "stream",
     "text": [
      "output hello\n"
     ]
    }
   ],
   "source": [
    "print(\"output\", variablename)"
   ]
  },
  {
   "cell_type": "code",
   "execution_count": 7,
   "metadata": {},
   "outputs": [
    {
     "name": "stdout",
     "output_type": "stream",
     "text": [
      "5\n",
      "6\n",
      "140459277025648\n",
      "140459277025680\n"
     ]
    }
   ],
   "source": [
    "a = 5\n",
    "A = 6\n",
    "\n",
    "print(a)\n",
    "print(A)\n",
    "\n",
    "print(id(a))\n",
    "print(id(A))\n",
    "\n"
   ]
  },
  {
   "cell_type": "code",
   "execution_count": 10,
   "metadata": {},
   "outputs": [
    {
     "name": "stdout",
     "output_type": "stream",
     "text": [
      "34\n",
      "34\n",
      "34\n",
      "140459277026576\n",
      "140459277026576\n",
      "140459277026576\n"
     ]
    }
   ],
   "source": [
    "\n",
    "a = b = c = 34\n",
    "print(a)\n",
    "print(b)\n",
    "print(c)\n",
    "\n",
    "\n",
    "print(id(a))\n",
    "print(id(b))\n",
    "print(id(c))"
   ]
  },
  {
   "cell_type": "code",
   "execution_count": 11,
   "metadata": {},
   "outputs": [
    {
     "name": "stdout",
     "output_type": "stream",
     "text": [
      "22\n",
      "34\n",
      "46\n",
      "140459277026192\n",
      "140459277026576\n",
      "140459277026960\n"
     ]
    }
   ],
   "source": [
    "\n",
    "\n",
    "a,b,c = 22, 34, 46\n",
    "print(a)\n",
    "print(b)\n",
    "print(c)\n",
    "\n",
    "\n",
    "print(id(a))\n",
    "print(id(b))\n",
    "print(id(c))"
   ]
  },
  {
   "cell_type": "code",
   "execution_count": 13,
   "metadata": {},
   "outputs": [
    {
     "name": "stdout",
     "output_type": "stream",
     "text": [
      "it's a value\n",
      "it\"s b value\n"
     ]
    }
   ],
   "source": [
    "variable_a = \"it's a value\"\n",
    "variable_b = 'it\"s b value'\n",
    "\n",
    "print(variable_a)\n",
    "print(variable_b)"
   ]
  },
  {
   "cell_type": "code",
   "execution_count": 18,
   "metadata": {},
   "outputs": [
    {
     "name": "stdout",
     "output_type": "stream",
     "text": [
      "333\n",
      "<class 'str'>\n",
      "4444\n",
      "<class 'int'>\n"
     ]
    }
   ],
   "source": [
    "user = input()\n",
    "print(user)\n",
    "print(type(user))\n",
    "\n",
    "\n",
    "user2 = int(input())\n",
    "print(user2)\n",
    "print(type(user2))"
   ]
  },
  {
   "cell_type": "code",
   "execution_count": 21,
   "metadata": {},
   "outputs": [
    {
     "name": "stdout",
     "output_type": "stream",
     "text": [
      "4\n",
      "<class 'str'>\n",
      "5\n",
      "<class 'str'>\n",
      "45\n"
     ]
    }
   ],
   "source": [
    "user = input()\n",
    "print(user)\n",
    "print(type(user))\n",
    "\n",
    "\n",
    "user2 = input()\n",
    "print(user2)\n",
    "print(type(user2))\n",
    "\n",
    "\n",
    "neww = user + user2\n",
    "print(neww)"
   ]
  },
  {
   "cell_type": "code",
   "execution_count": 24,
   "metadata": {},
   "outputs": [
    {
     "name": "stdout",
     "output_type": "stream",
     "text": [
      "4.7\n",
      "<class 'float'>\n",
      "5\n",
      "<class 'int'>\n",
      "9.7\n"
     ]
    }
   ],
   "source": [
    "user = float(input())\n",
    "print(user)\n",
    "print(type(user))\n",
    "\n",
    "\n",
    "user2 = int(input())\n",
    "print(user2)\n",
    "print(type(user2))\n",
    "\n",
    "\n",
    "neww = user + user2\n",
    "print(neww)"
   ]
  },
  {
   "cell_type": "code",
   "execution_count": 34,
   "metadata": {},
   "outputs": [
    {
     "name": "stdout",
     "output_type": "stream",
     "text": [
      "me t\n",
      "Welcome to python with Django\n",
      " Django\n",
      "jang\n",
      "Welcome to python with Djang\n"
     ]
    }
   ],
   "source": [
    "s = \"Welcome to python with Django\"\n",
    "\n",
    "print(s[5:9])\n",
    "print(s[:])\n",
    "print(s[22:])\n",
    "\n",
    "\n",
    "print(s[-5:-1])\n",
    "\n",
    "print(s[:-1])"
   ]
  },
  {
   "cell_type": "code",
   "execution_count": 49,
   "metadata": {},
   "outputs": [
    {
     "name": "stdout",
     "output_type": "stream",
     "text": [
      "WELCOME W TO PYTHON  W WITH DJANGO\n",
      "welcome w to python  w with django\n",
      "Welcome to python with Django\n",
      "Aelcome A to python  A with Django\n"
     ]
    }
   ],
   "source": [
    "value = \"Welcome W to python  W with Django\"\n",
    "\n",
    "print(value.upper())\n",
    "print(value.lower())\n",
    "\n",
    "value2 = \"  Welcome to python with Django   \"\n",
    "print(value2.strip())\n",
    "print(value.replace(\"W\", \"A\"))"
   ]
  },
  {
   "cell_type": "code",
   "execution_count": 56,
   "metadata": {},
   "outputs": [
    {
     "name": "stdout",
     "output_type": "stream",
     "text": [
      "['Welcome', 'to', 'python', 'with', 'Django']\n",
      "('Welcome', 'to', 'python', 'with', 'Django')\n",
      "{'with', 'Welcome', 'Django', 'python', 'to'}\n"
     ]
    }
   ],
   "source": [
    "value = \"Welcome to python with Django\"\n",
    "\n",
    "new = value.split()\n",
    "print(new)\n",
    "\n",
    "new1 = tuple(new)\n",
    "print(new1)\n",
    "\n",
    "new1 = set(new)\n",
    "print(new1)\n",
    "\n",
    "\n"
   ]
  },
  {
   "cell_type": "code",
   "execution_count": 58,
   "metadata": {},
   "outputs": [
    {
     "name": "stdout",
     "output_type": "stream",
     "text": [
      "33.0\n"
     ]
    }
   ],
   "source": [
    "x = 33\n",
    "\n",
    "print(float(x))"
   ]
  },
  {
   "cell_type": "code",
   "execution_count": 60,
   "metadata": {},
   "outputs": [
    {
     "name": "stdout",
     "output_type": "stream",
     "text": [
      "True\n"
     ]
    }
   ],
   "source": [
    "x = 50 > 10\n",
    "print(x)"
   ]
  },
  {
   "cell_type": "code",
   "execution_count": 62,
   "metadata": {},
   "outputs": [
    {
     "name": "stdout",
     "output_type": "stream",
     "text": [
      "{4: 4.5, 'a': 'b'}\n",
      "<class 'dict'>\n"
     ]
    }
   ],
   "source": [
    "dica = {4:4.5, \"a\":\"b\"}\n",
    "print(dica)\n",
    "\n",
    "\n",
    "print(type(dica))"
   ]
  },
  {
   "attachments": {},
   "cell_type": "markdown",
   "metadata": {},
   "source": [
    "# Class -02 Assignment"
   ]
  },
  {
   "cell_type": "code",
   "execution_count": 63,
   "metadata": {},
   "outputs": [
    {
     "name": "stdout",
     "output_type": "stream",
     "text": [
      "my name is raju mia\n"
     ]
    }
   ],
   "source": [
    "#Print your name.\n",
    "\n",
    "print(\"my name is raju mia\")"
   ]
  },
  {
   "cell_type": "code",
   "execution_count": 66,
   "metadata": {},
   "outputs": [
    {
     "name": "stdout",
     "output_type": "stream",
     "text": [
      "rajumia\n"
     ]
    }
   ],
   "source": [
    "#2. Input your batch number using input() function.\n",
    "\n",
    "\n",
    "user = input(\"inter your name: \")\n",
    "print(user)"
   ]
  },
  {
   "cell_type": "code",
   "execution_count": null,
   "metadata": {},
   "outputs": [],
   "source": [
    "# 3. Create 5 different valid Variables and print.\n",
    "variable_1 = \n",
    "Variable_1 = \n",
    "varVary =\n",
    "VaryVary =\n",
    "vary_vary ="
   ]
  },
  {
   "cell_type": "code",
   "execution_count": null,
   "metadata": {},
   "outputs": [],
   "source": [
    "#4. Create Pascal Case Variable.\n",
    "\n",
    "\n",
    "PascalValueIs = "
   ]
  },
  {
   "cell_type": "code",
   "execution_count": 67,
   "metadata": {},
   "outputs": [
    {
     "name": "stdout",
     "output_type": "stream",
     "text": [
      "23 140459277026224\n",
      "23 140459277026224\n"
     ]
    }
   ],
   "source": [
    "#5. Assign a single value to Multiple variables with memory location.\n",
    "a = b = 23\n",
    "print(a, id(a))\n",
    "print(b, id(b))"
   ]
  },
  {
   "cell_type": "code",
   "execution_count": 69,
   "metadata": {},
   "outputs": [],
   "source": [
    "# 6.Input float value using input().\n",
    "value = float(input())"
   ]
  },
  {
   "cell_type": "code",
   "execution_count": 70,
   "metadata": {},
   "outputs": [
    {
     "name": "stdout",
     "output_type": "stream",
     "text": [
      "33.0\n"
     ]
    }
   ],
   "source": [
    "print(value)"
   ]
  }
 ],
 "metadata": {
  "kernelspec": {
   "display_name": "Python 3",
   "language": "python",
   "name": "python3"
  },
  "language_info": {
   "codemirror_mode": {
    "name": "ipython",
    "version": 3
   },
   "file_extension": ".py",
   "mimetype": "text/x-python",
   "name": "python",
   "nbconvert_exporter": "python",
   "pygments_lexer": "ipython3",
   "version": "3.10.7 (main, Nov 24 2022, 19:45:47) [GCC 12.2.0]"
  },
  "orig_nbformat": 4,
  "vscode": {
   "interpreter": {
    "hash": "e7370f93d1d0cde622a1f8e1c04877d8463912d04d973331ad4851f04de6915a"
   }
  }
 },
 "nbformat": 4,
 "nbformat_minor": 2
}
